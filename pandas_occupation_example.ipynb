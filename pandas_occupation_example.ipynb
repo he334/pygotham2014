{
 "metadata": {
  "name": "",
  "signature": "sha256:233aca048309b1e1b6559edf3554f70cb9de0b27787d0f2b8545d843ca6a707d"
 },
 "nbformat": 3,
 "nbformat_minor": 0,
 "worksheets": [
  {
   "cells": [
    {
     "cell_type": "code",
     "collapsed": false,
     "input": [
      "import os, re\n",
      "import pandas as pd\n",
      "\n",
      "data_path = \"data/Rangel_Two_Year_Summary_Itemized_Individual_Contributions.csv\"\n",
      "\n",
      "# Read Rangel Campaign Data, Skipping First 7 Rows\n",
      "contributions = pd.read_csv(data_path,skiprows=7,delimiter=\",\")\n",
      "\n",
      "# lowercase column names and replace spaces with underscore\n",
      "f = lambda x: str(x).lower().replace(' ','_')\n",
      "contributions.columns = contributions.columns.map(f)\n",
      "\n",
      "# replace dollar amounts with floating point values\n",
      "f = lambda x: float(re.sub('[\\$,\\)]','',x).replace('(','-'))\n",
      "contributions.amount = contributions.amount.map(f)\n",
      "\n",
      "# group amounts given by occupation, which gave the most?\n",
      "print contributions.occupation.value_counts()[:10]\n",
      "print\n",
      "\n",
      "# which zip codes gave the most?\n",
      "print contributions.zip.value_counts()"
     ],
     "language": "python",
     "metadata": {},
     "outputs": [
      {
       "output_type": "stream",
       "stream": "stdout",
       "text": [
        "RETIRED        99\n",
        "ATTORNEY       94\n",
        "PRESIDENT      70\n",
        "CONSULTANT     34\n",
        "CEO            29\n",
        "EXECUTIVE      26\n",
        "REAL ESTATE    21\n",
        "OWNER          21\n",
        "PARTNER        19\n",
        "LAWYER         17\n",
        "dtype: int64\n",
        "\n",
        "10024    31\n",
        "10027    31\n",
        "10037    29\n",
        "10025    27\n",
        "20005    25\n",
        "10026    23\n",
        "10030    23\n",
        "10031    23\n",
        "10021    22\n",
        "10023    19\n",
        "6606     15\n",
        "960      15\n",
        "10022    14\n",
        "10029    12\n",
        "10128    12\n",
        "...\n",
        "10606    1\n",
        "11753    1\n",
        "10970    1\n",
        "22202    1\n",
        "20853    1\n",
        "10451    1\n",
        "60616    1\n",
        "10105    1\n",
        "10541    1\n",
        "12502    1\n",
        "21710    1\n",
        "33483    1\n",
        "33134    1\n",
        "20169    1\n",
        "11050    1\n",
        "Length: 313, dtype: int64\n"
       ]
      }
     ],
     "prompt_number": 1
    },
    {
     "cell_type": "code",
     "collapsed": false,
     "input": [],
     "language": "python",
     "metadata": {},
     "outputs": []
    }
   ],
   "metadata": {}
  }
 ]
}