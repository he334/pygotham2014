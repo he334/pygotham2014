{
 "metadata": {
  "name": "",
  "signature": "sha256:d5699adc2965b257409cb0d060a7d2dee9a4cba9864c8dfe368f104c72ab7fce"
 },
 "nbformat": 3,
 "nbformat_minor": 0,
 "worksheets": [
  {
   "cells": [
    {
     "cell_type": "code",
     "collapsed": false,
     "input": [
      "import os\n",
      "import pandas as pd\n",
      "\n",
      "data_path = \"data/Rangel_Two_Year_Summary_Itemized_Individual_Contributions.csv\"\n",
      "\n",
      "# Read Rangel Campaign Data, Skipping First 7 Rows\n",
      "rangel_contributions = pd.read_csv(data_path,skiprows=7,delimiter=\",\")\n",
      "\n",
      "# Columns\n",
      "print rangel_contributions.columns\n",
      "\n",
      "# Sample Record\n",
      "rangel_contributions.ix[10]"
     ],
     "language": "python",
     "metadata": {},
     "outputs": [
      {
       "output_type": "stream",
       "stream": "stdout",
       "text": [
        "Index([u'Contributor Name', u'Employer', u'Occupation', u'Description', u'City', u'State', u'Zip', u'Receipt Date', u'Amount', u'Memo Code', u'Report Type', u'Report Year', u'Image Number', u'Transaction Code', u'Other Id', u'Candidate Id', u'Transaction PGI', u'Unnamed: 17'], dtype='object')\n"
       ]
      },
      {
       "metadata": {},
       "output_type": "pyout",
       "prompt_number": 2,
       "text": [
        "Contributor Name    AINYETTE, IVAN\n",
        "Employer             SELF-EMPLOYED\n",
        "Occupation            PYSCHOLOGIST\n",
        "Description                    NaN\n",
        "City                  SOUTH ORANGE\n",
        "State                           NJ\n",
        "Zip                           7079\n",
        "Receipt Date            06/11/2013\n",
        "Amount                     $250.00\n",
        "Memo Code                      NaN\n",
        "Report Type                     Q2\n",
        "Report Year                   2013\n",
        "Image Number           13964068905\n",
        "Transaction Code                15\n",
        "Other Id                       NaN\n",
        "Candidate Id                   NaN\n",
        "Transaction PGI                  P\n",
        "Unnamed: 17                    NaN\n",
        "Name: 10, dtype: object"
       ]
      }
     ],
     "prompt_number": 2
    },
    {
     "cell_type": "code",
     "collapsed": false,
     "input": [],
     "language": "python",
     "metadata": {},
     "outputs": []
    }
   ],
   "metadata": {}
  }
 ]
}