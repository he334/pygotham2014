{
 "metadata": {
  "name": "",
  "signature": "sha256:51271e794519e4f516dc0cab5e1e608aea1c753dd53a4c67263713f438c26c2d"
 },
 "nbformat": 3,
 "nbformat_minor": 0,
 "worksheets": [
  {
   "cells": [
    {
     "cell_type": "code",
     "collapsed": false,
     "input": [
      "import pandas as pd\n",
      "import os\n",
      "data_path = os.path.join(\"data/DEC_10_SF1_QTP3_with_ann.csv\")\n",
      "\n",
      "# Assembly Districts That Took Part In The Election\n",
      "assemblydistricts = ['36068','36069','36070','36071','36072','36077','36078','36080','36081','36086']\n",
      "\n",
      "# read census 2010 data\n",
      "censusdata = pd.read_csv(data_path)\n",
      "\n",
      "# map census column codes to plain language names\n",
      "mapping = {'GEO.id2':'assemblydistrict', 'HD02_S03':'white', 'HD02_S04':'black', 'HD02_S10':'asian', 'HD02_S30':'hispanic'}\n",
      "f = lambda x: mapping.get(x, x)\n",
      "censusdata.columns = censusdata.columns.map(f)\n",
      "\n",
      "# grab rows that match any one of the assembly districts\n",
      "censusdata = censusdata[censusdata['assemblydistrict'].isin(assemblydistricts)]\n",
      "\n",
      "# only grab demographic related columns\n",
      "censusdata = censusdata[['assemblydistrict','white','black','asian','hispanic']]\n",
      "print censusdata\n",
      "\n",
      "# save to CSV\n",
      "censusdata.to_csv('assembly_district_demographics.csv',index=False)"
     ],
     "language": "python",
     "metadata": {},
     "outputs": [
      {
       "output_type": "stream",
       "stream": "stdout",
       "text": [
        "   assemblydistrict white black asian hispanic\n",
        "68            36068  30.6  37.4   5.4     47.3\n",
        "69            36069  59.3  18.1   9.1     22.9\n",
        "70            36070  18.4  55.2   2.6     35.4\n",
        "71            36071  34.8  31.1   3.2     48.2\n",
        "72            36072  30.2  13.5   1.9     82.2\n",
        "77            36077  16.7  43.2   1.3     60.9\n",
        "78            36078  29.6  23.7   4.9     66.5\n",
        "80            36080  44.5  23.5   7.9     43.1\n",
        "81            36081  50.5  21.3   6.9     35.0\n",
        "86            36086  20.1  31.1   2.1     71.6\n"
       ]
      }
     ],
     "prompt_number": 3
    },
    {
     "cell_type": "code",
     "collapsed": false,
     "input": [],
     "language": "python",
     "metadata": {},
     "outputs": []
    }
   ],
   "metadata": {}
  }
 ]
}